{
 "cells": [
  {
   "cell_type": "markdown",
   "id": "fd853763",
   "metadata": {},
   "source": [
    "# Healthcare and Insurance Cost Analysis\n",
    "\n",
    "#### 🩺 Introduction\n",
    "\n",
    "Healthcare costs vary widely depending on demographics, lifestyle, and health conditions.  \n",
    "This dataset contains information on **100,000 individuals**, including:\n",
    "\n",
    "- Age, gender, and region  \n",
    "- Income and socioeconomic factors  \n",
    "- Lifestyle habits (BMI, smoking, exercise)  \n",
    "- Health conditions  \n",
    "- Insurance information  \n",
    "- Annual medical expenditures  \n",
    "\n",
    "The goal of this analysis is to explore the factors influencing medical costs and identify patterns that can support prediction and risk assessment.\n",
    "\n",
    "---\n",
    "\n",
    "#### 🎯 Key Questions\n",
    "\n",
    "1. **Demographics and Costs**: How do demographic factors (age, gender, region) relate to annual medical costs?  \n",
    "2. **Lifestyle Impact**: How do lifestyle factors (BMI, smoking, exercise) affect healthcare expenditures?  \n",
    "3. **Health Conditions**: Which health conditions are associated with higher medical costs?  \n",
    "4. **Cost Prediction**: Can we predict annual medical costs using demographic, lifestyle, and health features?  \n",
    "5. **Risk Classification**: Can we classify individuals by risk level based on their profiles?\n"
   ]
  },
  {
   "cell_type": "markdown",
   "id": "d2d839aa",
   "metadata": {},
   "source": []
  }
 ],
 "metadata": {
  "kernelspec": {
   "display_name": ".venv (3.13.7)",
   "language": "python",
   "name": "python3"
  },
  "language_info": {
   "name": "python",
   "version": "3.13.7"
  }
 },
 "nbformat": 4,
 "nbformat_minor": 5
}
