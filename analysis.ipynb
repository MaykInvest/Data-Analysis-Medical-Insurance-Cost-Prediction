{
 "cells": [
  {
   "cell_type": "markdown",
   "id": "fd853763",
   "metadata": {},
   "source": [
    "# Healthcare and Insurance Cost Analysis\n",
    "\n",
    "#### 🩺 Introduction\n",
    "\n",
    "Healthcare costs vary widely depending on demographics, lifestyle, and health conditions.  \n",
    "This dataset contains information on **100,000 individuals**, including:\n",
    "\n",
    "- Age, gender, and region  \n",
    "- Income and socioeconomic factors  \n",
    "- Lifestyle habits (BMI, smoking, exercise)  \n",
    "- Health conditions  \n",
    "- Insurance information  \n",
    "- Annual medical expenditures  \n",
    "\n",
    "The goal of this analysis is to explore the factors influencing medical costs and identify patterns that can support prediction and risk assessment.\n",
    "\n",
    "---\n",
    "\n",
    "#### 🎯 Key Questions\n",
    "\n",
    "1. **Demographics and Costs**: How do demographic factors (age, gender, region) relate to annual medical costs?  \n",
    "2. **Lifestyle Impact**: How do lifestyle factors (BMI, smoking, exercise) affect healthcare expenditures?  \n",
    "3. **Health Conditions**: Which health conditions are associated with higher medical costs?  \n",
    "4. **Cost Prediction**: Can we predict annual medical costs using demographic, lifestyle, and health features?  \n",
    "5. **Risk Classification**: Can we classify individuals by risk level based on their profiles?\n"
   ]
  },
  {
   "cell_type": "markdown",
   "id": "d2d839aa",
   "metadata": {},
   "source": [
    "📦 Next Steps   \n",
    "- Set up the project structure.  \n",
    "- Install the required Python libraries.  \n",
    "- Begin exploratory data analysis (EDA).\n",
    "-------------\n",
    "⚙️ Required Libraries:"
   ]
  },
  {
   "cell_type": "code",
   "execution_count": 1,
   "id": "4197bab5",
   "metadata": {},
   "outputs": [
    {
     "name": "stdout",
     "output_type": "stream",
     "text": [
      "Note: you may need to restart the kernel to use updated packages.\n"
     ]
    },
    {
     "name": "stderr",
     "output_type": "stream",
     "text": [
      "\n",
      "[notice] A new release of pip is available: 25.2 -> 25.3\n",
      "[notice] To update, run: python.exe -m pip install --upgrade pip\n"
     ]
    }
   ],
   "source": [
    "%pip install -q -U pandas numpy matplotlib seaborn"
   ]
  },
  {
   "cell_type": "code",
   "execution_count": null,
   "id": "40698e29",
   "metadata": {},
   "outputs": [],
   "source": []
  }
 ],
 "metadata": {
  "kernelspec": {
   "display_name": ".venv (3.13.7)",
   "language": "python",
   "name": "python3"
  },
  "language_info": {
   "codemirror_mode": {
    "name": "ipython",
    "version": 3
   },
   "file_extension": ".py",
   "mimetype": "text/x-python",
   "name": "python",
   "nbconvert_exporter": "python",
   "pygments_lexer": "ipython3",
   "version": "3.13.7"
  }
 },
 "nbformat": 4,
 "nbformat_minor": 5
}
